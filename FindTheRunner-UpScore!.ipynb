{
 "cells": [
  {
   "cell_type": "code",
   "execution_count": 11,
   "metadata": {},
   "outputs": [
    {
     "name": "stdout",
     "output_type": "stream",
     "text": [
      "Qual o tamanho do array?5\n",
      "Entre com valores2 3 6 6 5\n",
      "5\n"
     ]
    }
   ],
   "source": [
    "#Given the participants' score sheet for your University Sports Day, you are required to find the runner-up score. \n",
    "#You are given scores. Store them in a list and find the score of the runner-up.\n",
    "\n",
    "\n",
    "n = int(input(\"Qual o tamanho do array?\"))\n",
    "arr = input(\"Entre com valores\")\n",
    "list_input = []\n",
    "list_input = arr.split(\" \")\n",
    "results_b = []\n",
    "results = [int(i) for i in list_input]\n",
    "maximum = max(results)\n",
    "\n",
    "for i in results:    \n",
    "    if(i!=maximum):\n",
    "        results_b+=[i]\n",
    "    \n",
    "maximum_b = max(results_b)    \n",
    "print(maximum_b)"
   ]
  },
  {
   "cell_type": "code",
   "execution_count": null,
   "metadata": {},
   "outputs": [],
   "source": []
  }
 ],
 "metadata": {
  "kernelspec": {
   "display_name": "Python 3",
   "language": "python",
   "name": "python3"
  },
  "language_info": {
   "codemirror_mode": {
    "name": "ipython",
    "version": 3
   },
   "file_extension": ".py",
   "mimetype": "text/x-python",
   "name": "python",
   "nbconvert_exporter": "python",
   "pygments_lexer": "ipython3",
   "version": "3.7.0"
  }
 },
 "nbformat": 4,
 "nbformat_minor": 2
}

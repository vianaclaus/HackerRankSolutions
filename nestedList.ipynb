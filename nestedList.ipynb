{
 "cells": [
  {
   "cell_type": "code",
   "execution_count": 7,
   "metadata": {},
   "outputs": [
    {
     "name": "stdout",
     "output_type": "stream",
     "text": [
      "Entre com a quantidade de notas2\n",
      "Nome do alunoCa\n",
      "Nota do aluno23\n",
      "Nome do alunoRo\n",
      "Nota do aluno33\n",
      "Ca\n"
     ]
    }
   ],
   "source": [
    "name = []\n",
    "score = []\n",
    "listGoal = []\n",
    "for i in range(int(input(\"Entre com a quantidade de notas\"))):         \n",
    "        name += [input(\"Nome do aluno\")]\n",
    "        score += [float(input(\"Nota do aluno\"))]          \n",
    "        \n",
    "minimum = min(score) \n",
    "maximum = max(score)\n",
    "count = 0\n",
    "score2 = []\n",
    "\n",
    "if(len(score)==2):\n",
    "    \n",
    "    if(score[1]>score[0]):\n",
    "        print(name[0])\n",
    "        \n",
    "    elif(score[1]==score[0]):\n",
    "        print(name[0])\n",
    "        print(name[1])\n",
    "        \n",
    "    elif(score[1]<score[0]):\n",
    "        print(name[1])\n",
    "        \n",
    "\n",
    "elif(maximum!=minimum):\n",
    "    \n",
    "    for i in score:\n",
    "        if(i==minimum):        \n",
    "            i=maximum+1\n",
    "            score2 += [i]\n",
    "              \n",
    "        else:\n",
    "            score2+=[i]      \n",
    "        \n",
    "    mini = min(score2)\n",
    "\n",
    "    listaNames = []  \n",
    "    \n",
    "    for i, value in enumerate(score2):\n",
    "        if(value==mini):\n",
    "            listaNames+=[name[i]]        \n",
    "      \n",
    "    listaNames = sorted(listaNames)\n",
    "    \n",
    "    for i in listaNames:\n",
    "        print(i)\n",
    "        \n",
    "        \n",
    "            \n",
    "else:            \n",
    "            \n",
    "            \n",
    "    for i in name:\n",
    "        print(name)\n",
    "    \n",
    "   \n",
    "\n",
    "    "
   ]
  },
  {
   "cell_type": "markdown",
   "metadata": {},
   "source": [
    "\n",
    "\n",
    "\n"
   ]
  },
  {
   "cell_type": "code",
   "execution_count": null,
   "metadata": {},
   "outputs": [],
   "source": []
  },
  {
   "cell_type": "code",
   "execution_count": null,
   "metadata": {},
   "outputs": [],
   "source": []
  },
  {
   "cell_type": "code",
   "execution_count": null,
   "metadata": {},
   "outputs": [],
   "source": []
  }
 ],
 "metadata": {
  "kernelspec": {
   "display_name": "Python 3",
   "language": "python",
   "name": "python3"
  },
  "language_info": {
   "codemirror_mode": {
    "name": "ipython",
    "version": 3
   },
   "file_extension": ".py",
   "mimetype": "text/x-python",
   "name": "python",
   "nbconvert_exporter": "python",
   "pygments_lexer": "ipython3",
   "version": "3.7.0"
  }
 },
 "nbformat": 4,
 "nbformat_minor": 2
}
